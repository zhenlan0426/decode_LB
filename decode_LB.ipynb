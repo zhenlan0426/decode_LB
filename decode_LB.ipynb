{
 "cells": [
  {
   "cell_type": "code",
   "execution_count": 1,
   "metadata": {
    "collapsed": true
   },
   "outputs": [],
   "source": [
    "%matplotlib inline\n",
    "import numpy as np\n",
    "import matplotlib.pyplot as plt\n",
    "from scipy.stats import beta"
   ]
  },
  {
   "cell_type": "code",
   "execution_count": 4,
   "metadata": {},
   "outputs": [
    {
     "name": "stderr",
     "output_type": "stream",
     "text": [
      "Using gpu device 0: GeForce GTX 980 Ti (CNMeM is enabled with initial size: 75.0% of memory, cuDNN 5005)\n"
     ]
    }
   ],
   "source": [
    "import theano\n",
    "import theano.tensor as tt\n",
    "from lasagne.layers import InputLayer, DenseLayer,rrelu\n",
    "from lasagne.nonlinearities import sigmoid\n",
    "import lasagne.layers as layers\n",
    "import lasagne"
   ]
  },
  {
   "cell_type": "code",
   "execution_count": 3,
   "metadata": {
    "collapsed": true
   },
   "outputs": [],
   "source": [
    "N = 9000 # tot datasize\n",
    "d = 90 # experiment size\n",
    "p = 0.5 # para for Bernoulli\n",
    "n1 = 10000 # training sample size\n",
    "n2 = 10000 # test sample size"
   ]
  },
  {
   "cell_type": "code",
   "execution_count": 58,
   "metadata": {
    "collapsed": true
   },
   "outputs": [],
   "source": [
    "def Loss(Y,P):\n",
    "    # Y should have shape (n,N) and P (N,d)\n",
    "    return (np.dot(Y,np.log(P)) + np.dot(1-Y,np.log(1-P)))/P.shape[0]"
   ]
  },
  {
   "cell_type": "code",
   "execution_count": 4,
   "metadata": {
    "collapsed": true
   },
   "outputs": [],
   "source": [
    "Y_train  = np.random.rand(n1,N)>p\n",
    "Y_test  = np.random.rand(n2,N)>p"
   ]
  },
  {
   "cell_type": "code",
   "execution_count": 5,
   "metadata": {},
   "outputs": [
    {
     "data": {
      "text/plain": [
       "(10000, 9000)"
      ]
     },
     "execution_count": 5,
     "metadata": {},
     "output_type": "execute_result"
    }
   ],
   "source": [
    "Y_train.shape"
   ]
  },
  {
   "cell_type": "code",
   "execution_count": 7,
   "metadata": {
    "collapsed": true
   },
   "outputs": [],
   "source": [
    "P_uniform = np.random.rand(N,d)"
   ]
  },
  {
   "cell_type": "code",
   "execution_count": 4,
   "metadata": {
    "collapsed": true
   },
   "outputs": [],
   "source": [
    "P_beta = np.maximum(np.minimum(beta.rvs(0.5,0.5,size=(N,d)),1-1e-4),1e-4)"
   ]
  },
  {
   "cell_type": "code",
   "execution_count": null,
   "metadata": {
    "collapsed": true
   },
   "outputs": [],
   "source": []
  },
  {
   "cell_type": "code",
   "execution_count": 152,
   "metadata": {
    "collapsed": true
   },
   "outputs": [],
   "source": [
    "# add one to make them zero means\n",
    "C_train = Loss(Y_train,P_uniform).astype(np.float32) + 1\n",
    "C_test = Loss(Y_test,P_uniform).astype(np.float32) + 1"
   ]
  },
  {
   "cell_type": "code",
   "execution_count": 8,
   "metadata": {},
   "outputs": [
    {
     "data": {
      "text/plain": [
       "(10000, 90)"
      ]
     },
     "execution_count": 8,
     "metadata": {},
     "output_type": "execute_result"
    }
   ],
   "source": [
    "C_train.shape"
   ]
  },
  {
   "cell_type": "code",
   "execution_count": null,
   "metadata": {
    "collapsed": true
   },
   "outputs": [],
   "source": []
  },
  {
   "cell_type": "markdown",
   "metadata": {},
   "source": [
    "### Train ANN"
   ]
  },
  {
   "cell_type": "code",
   "execution_count": 297,
   "metadata": {
    "collapsed": true
   },
   "outputs": [],
   "source": [
    "batchSize = 50"
   ]
  },
  {
   "cell_type": "code",
   "execution_count": 298,
   "metadata": {
    "collapsed": true
   },
   "outputs": [],
   "source": [
    "layer = InputLayer((batchSize, d))\n",
    "layer = DenseLayer(layer, num_units=d*10, nonlinearity=lasagne.nonlinearities.very_leaky_rectify)\n",
    "#layer = rrelu(layer)\n",
    "layer = DenseLayer(layer, num_units=N, nonlinearity=sigmoid)"
   ]
  },
  {
   "cell_type": "code",
   "execution_count": 299,
   "metadata": {
    "collapsed": true
   },
   "outputs": [],
   "source": [
    "X_tt = tt.matrix()\n",
    "y_tt = tt.matrix()\n",
    "learning_rate_tt = tt.scalar()\n",
    "m_tt = tt.scalar()"
   ]
  },
  {
   "cell_type": "code",
   "execution_count": 300,
   "metadata": {
    "collapsed": true
   },
   "outputs": [],
   "source": [
    "yhat_tt = layers.get_output(layer, X_tt)"
   ]
  },
  {
   "cell_type": "code",
   "execution_count": 301,
   "metadata": {
    "collapsed": true
   },
   "outputs": [],
   "source": [
    "cost = -tt.mean(y_tt*tt.log(yhat_tt) + (1-y_tt)*tt.log(1-yhat_tt))"
   ]
  },
  {
   "cell_type": "code",
   "execution_count": 302,
   "metadata": {
    "collapsed": true
   },
   "outputs": [],
   "source": [
    "params = lasagne.layers.get_all_params(layer, trainable=True)\n",
    "#updates = lasagne.updates.nesterov_momentum(\n",
    "#            cost, params, learning_rate=learning_rate_tt, momentum=m_tt)\n",
    "updates = lasagne.updates.adam(cost, params, learning_rate=learning_rate_tt)"
   ]
  },
  {
   "cell_type": "code",
   "execution_count": 303,
   "metadata": {},
   "outputs": [],
   "source": [
    "train_fn = theano.function([X_tt, y_tt,learning_rate_tt], cost, updates=updates)"
   ]
  },
  {
   "cell_type": "code",
   "execution_count": 304,
   "metadata": {
    "collapsed": true
   },
   "outputs": [],
   "source": [
    "predict  = theano.function([X_tt],yhat_tt)"
   ]
  },
  {
   "cell_type": "code",
   "execution_count": 305,
   "metadata": {
    "collapsed": true
   },
   "outputs": [],
   "source": [
    "loss = theano.function([X_tt, y_tt], cost)"
   ]
  },
  {
   "cell_type": "code",
   "execution_count": 306,
   "metadata": {},
   "outputs": [
    {
     "name": "stdout",
     "output_type": "stream",
     "text": [
      "epoch:0, err_train:0.689614560604, err_test:0.692104171216\n",
      "epoch:1, err_train:0.68720859915, err_test:0.694021153748\n",
      "epoch:2, err_train:0.68579628408, err_test:0.69416043669\n",
      "epoch:3, err_train:0.685187106729, err_test:0.694268585443\n",
      "epoch:4, err_train:0.684875157475, err_test:0.694533845186\n",
      "epoch:5, err_train:0.684741849005, err_test:0.694966739714\n",
      "epoch:6, err_train:0.684510119557, err_test:0.694979871213\n",
      "epoch:7, err_train:0.684315468073, err_test:0.695166952312\n",
      "epoch:8, err_train:0.684133143425, err_test:0.695542790592\n",
      "epoch:9, err_train:0.684044878781, err_test:0.695857040286\n"
     ]
    }
   ],
   "source": [
    "epoch = 10\n",
    "\n",
    "\n",
    "for i in range(epoch):\n",
    "    for j in range(n1/batchSize):\n",
    "        train_fn(C_train[j * batchSize: (j + 1) * batchSize], \\\n",
    "                                           Y_train[j * batchSize: (j + 1) * batchSize],\\\n",
    "                                          1e-2)\n",
    "    err_train = 0\n",
    "    for j in range(n1/batchSize):\n",
    "        err_train += loss(C_train[j * batchSize: (j + 1) * batchSize], \\\n",
    "                                           Y_train[j * batchSize: (j + 1) * batchSize])        \n",
    "\n",
    "    err_test = 0\n",
    "    for j in range(n2/batchSize):\n",
    "        err_test += loss(C_test[j * batchSize: (j + 1) * batchSize], \\\n",
    "                                           Y_test[j * batchSize: (j + 1) * batchSize])  \n",
    "    print 'epoch:{}, err_train:{}, err_test:{}'.format(i,err_train/n1*batchSize,err_test/n2*batchSize)"
   ]
  },
  {
   "cell_type": "code",
   "execution_count": 75,
   "metadata": {},
   "outputs": [
    {
     "data": {
      "text/plain": [
       "-0.69314718055994529"
      ]
     },
     "execution_count": 75,
     "metadata": {},
     "output_type": "execute_result"
    }
   ],
   "source": [
    "np.log(0.5)"
   ]
  },
  {
   "cell_type": "code",
   "execution_count": null,
   "metadata": {
    "collapsed": true
   },
   "outputs": [],
   "source": []
  },
  {
   "cell_type": "code",
   "execution_count": 307,
   "metadata": {
    "scrolled": false
   },
   "outputs": [
    {
     "data": {
      "image/png": "[encoded data removed]",
      "text/plain": [
       "<matplotlib.figure.Figure at 0x7f25fff55090>"
      ]
     },
     "metadata": {},
     "output_type": "display_data"
    },
    {
     "data": {
      "image/png": "[encoded data removed]",
      "text/plain": [
       "<matplotlib.figure.Figure at 0x7f25e7720310>"
      ]
     },
     "metadata": {},
     "output_type": "display_data"
    },
    {
     "data": {
      "image/png": "[encoded data removed]",
      "text/plain": [
       "<matplotlib.figure.Figure at 0x7f25e31b4190>"
      ]
     },
     "metadata": {},
     "output_type": "display_data"
    },
    {
     "data": {
      "image/png": "[encoded data removed]",
      "text/plain": [
       "<matplotlib.figure.Figure at 0x7f25e30284d0>"
      ]
     },
     "metadata": {},
     "output_type": "display_data"
    }
   ],
   "source": [
    "for p in params:\n",
    "    plt.hist(p.get_value().flatten())\n",
    "    plt.show()"
   ]
  },
  {
   "cell_type": "code",
   "execution_count": 190,
   "metadata": {
    "collapsed": true
   },
   "outputs": [],
   "source": [
    "a = params[0]"
   ]
  },
  {
   "cell_type": "code",
   "execution_count": null,
   "metadata": {
    "collapsed": true
   },
   "outputs": [],
   "source": []
  },
  {
   "cell_type": "code",
   "execution_count": null,
   "metadata": {
    "collapsed": true
   },
   "outputs": [],
   "source": []
  },
  {
   "cell_type": "code",
   "execution_count": null,
   "metadata": {
    "collapsed": true
   },
   "outputs": [],
   "source": []
  },
  {
   "cell_type": "code",
   "execution_count": null,
   "metadata": {
    "collapsed": true
   },
   "outputs": [],
   "source": []
  },
  {
   "cell_type": "code",
   "execution_count": null,
   "metadata": {
    "collapsed": true
   },
   "outputs": [],
   "source": []
  },
  {
   "cell_type": "code",
   "execution_count": 46,
   "metadata": {},
   "outputs": [],
   "source": [
    "y0=predict(C_train[:batchSize])"
   ]
  },
  {
   "cell_type": "code",
   "execution_count": 153,
   "metadata": {},
   "outputs": [
    {
     "data": {
      "text/plain": [
       "(array([   10.,    80.,   527.,  1662.,  2939.,  2760.,  1482.,   451.,\n",
       "           80.,     9.]),\n",
       " array([-0.03128362, -0.02382081, -0.01635801, -0.0088952 , -0.00143239,\n",
       "         0.00603041,  0.01349322,  0.02095602,  0.02841883,  0.03588163,\n",
       "         0.04334444]),\n",
       " <a list of 10 Patch objects>)"
      ]
     },
     "execution_count": 153,
     "metadata": {},
     "output_type": "execute_result"
    },
    {
     "data": {
      "image/png": "[encoded data removed]",
      "text/plain": [
       "<matplotlib.figure.Figure at 0x7f25e98c20d0>"
      ]
     },
     "metadata": {},
     "output_type": "display_data"
    }
   ],
   "source": [
    "plt.hist(C_train[:,0])"
   ]
  },
  {
   "cell_type": "code",
   "execution_count": 154,
   "metadata": {},
   "outputs": [
    {
     "data": {
      "text/plain": [
       "(array([   14.,   119.,   561.,  1636.,  2784.,  2789.,  1500.,   507.,\n",
       "           81.,     9.]),\n",
       " array([-0.03434277, -0.0270713 , -0.01979983, -0.01252836, -0.00525689,\n",
       "         0.00201458,  0.00928605,  0.01655751,  0.02382898,  0.03110045,\n",
       "         0.03837192]),\n",
       " <a list of 10 Patch objects>)"
      ]
     },
     "execution_count": 154,
     "metadata": {},
     "output_type": "execute_result"
    },
    {
     "data": {
      "image/png": "[encoded data removed]",
      "text/plain": [
       "<matplotlib.figure.Figure at 0x7f25e9526490>"
      ]
     },
     "metadata": {},
     "output_type": "display_data"
    }
   ],
   "source": [
    "plt.hist(C_train[:,1])"
   ]
  },
  {
   "cell_type": "code",
   "execution_count": 155,
   "metadata": {},
   "outputs": [
    {
     "data": {
      "text/plain": [
       "array([ 0.00948766,  0.0095285 ,  0.00951564,  0.0096427 ,  0.00969364,\n",
       "        0.00949789,  0.00963455,  0.00961733,  0.00959555,  0.009373  ,\n",
       "        0.00942262,  0.00950524,  0.00955212,  0.00938192,  0.00952866,\n",
       "        0.00957543,  0.00965639,  0.0095996 ,  0.00957522,  0.00958839,\n",
       "        0.00963741,  0.00953943,  0.00957789,  0.00946953,  0.00963408,\n",
       "        0.00949722,  0.00946613,  0.00959153,  0.00949094,  0.0095606 ,\n",
       "        0.00959773,  0.00941864,  0.00950977,  0.00950973,  0.00984407,\n",
       "        0.0095374 ,  0.00941113,  0.00961193,  0.00932337,  0.00955051,\n",
       "        0.00969428,  0.00938797,  0.00985779,  0.00975842,  0.00951831,\n",
       "        0.0094774 ,  0.00957638,  0.00987185,  0.00965145,  0.00957723,\n",
       "        0.00959852,  0.00957338,  0.00960829,  0.00975172,  0.00970769,\n",
       "        0.00966112,  0.00956394,  0.00971999,  0.00950419,  0.00975455,\n",
       "        0.00951419,  0.00965179,  0.00953375,  0.00949359,  0.00971331,\n",
       "        0.00955145,  0.00966069,  0.00939425,  0.00969758,  0.00941888,\n",
       "        0.00957255,  0.0095512 ,  0.00975597,  0.00936287,  0.0093062 ,\n",
       "        0.00946266,  0.00934019,  0.0096048 ,  0.00933772,  0.00936504,\n",
       "        0.00964421,  0.00960687,  0.00978965,  0.00944583,  0.00964993,\n",
       "        0.00960516,  0.00960124,  0.00964145,  0.00955273,  0.00967323], dtype=float32)"
      ]
     },
     "execution_count": 155,
     "metadata": {},
     "output_type": "execute_result"
    }
   ],
   "source": [
    "np.std(C_train,0)"
   ]
  },
  {
   "cell_type": "code",
   "execution_count": 156,
   "metadata": {},
   "outputs": [
    {
     "data": {
      "text/plain": [
       "array([ 0.00560709,  0.00162891,  0.00098629, -0.00539697, -0.00414292,\n",
       "       -0.0020789 ,  0.00014745, -0.00164009,  0.00079338,  0.00549056,\n",
       "        0.00078585, -0.00188549, -0.00418125,  0.00974758, -0.00072617,\n",
       "        0.00107343, -0.00598398, -0.00114792,  0.00141972, -0.00397507,\n",
       "       -0.00517931,  0.00142427,  0.00168768, -0.00167463, -0.00638193,\n",
       "        0.00327363, -0.00389003,  0.00031471,  0.00268533,  0.00138777,\n",
       "        0.00331931,  0.00184842,  0.0016959 ,  0.00145644, -0.00816135,\n",
       "        0.00101269,  0.00337672, -0.00074703,  0.00722189, -0.00041227,\n",
       "       -0.00064137,  0.00263173, -0.01241963, -0.00472104,  0.00201806,\n",
       "        0.00217457,  0.00337308, -0.00654791,  0.00024274,  0.00437307,\n",
       "       -0.00131643,  0.00355926,  0.00085678, -0.00198839, -0.00381185,\n",
       "       -0.00501515,  0.00469383, -0.00275032,  0.00274809, -0.00915059,\n",
       "        0.00134336, -0.0013232 ,  0.00235903, -0.00198504, -0.00390541,\n",
       "        0.00139827, -0.00564536,  0.00491303, -0.00350712,  0.00351165,\n",
       "       -0.00086811, -0.00037268, -0.0088518 ,  0.0090744 ,  0.00787485,\n",
       "        0.00452812,  0.00791712, -0.00698794,  0.00286234,  0.00090743,\n",
       "       -0.00227993, -0.00113038, -0.0111168 , -0.00199766, -0.00410496,\n",
       "        0.00328702, -0.00100204, -0.00844087,  0.00178849, -0.00351236], dtype=float32)"
      ]
     },
     "execution_count": 156,
     "metadata": {},
     "output_type": "execute_result"
    }
   ],
   "source": [
    "np.mean(C_train,0)"
   ]
  },
  {
   "cell_type": "code",
   "execution_count": null,
   "metadata": {
    "collapsed": true
   },
   "outputs": [],
   "source": []
  },
  {
   "cell_type": "code",
   "execution_count": null,
   "metadata": {
    "collapsed": true
   },
   "outputs": [],
   "source": []
  },
  {
   "cell_type": "code",
   "execution_count": null,
   "metadata": {
    "collapsed": true
   },
   "outputs": [],
   "source": []
  },
  {
   "cell_type": "code",
   "execution_count": 41,
   "metadata": {
    "collapsed": true
   },
   "outputs": [],
   "source": [
    "from sklearn.base import BaseEstimator, ClassifierMixin\n",
    "from sklearn.tree import ExtraTreeRegressor"
   ]
  },
  {
   "cell_type": "code",
   "execution_count": 20,
   "metadata": {},
   "outputs": [],
   "source": [
    "def LossMask(Y,P,mask):\n",
    "    # Y should have shape (n,N), P (N,d) and mask (n,N)\n",
    "    return (np.dot(Y*mask,np.log(P)) + np.dot((1-Y)*mask,np.log(1-P)))/np.sum(mask,1,keepdims=True)\n",
    "\n",
    "def dataGenMask(n,N,p1,p2,P):\n",
    "    # P should be of shape (N,d) and serves as hyper-para\n",
    "    # p1 is the prob for Y, p2 for mask\n",
    "    #mask = np.broadcast_to(np.random.rand(1,N)>p2,(n,N))\n",
    "    while True:\n",
    "        Y = np.random.rand(n,N)>p1\n",
    "        mask = np.random.rand(n,N)>p2\n",
    "        C = LossMask(Y,P,mask)\n",
    "        yield (C,mask)\n",
    "\n",
    "def LossY(Y,P):\n",
    "    # Y should have shape (n,N) and P (N,d)\n",
    "    return (np.dot(Y,np.log(P)) + np.dot(1-Y,np.log(1-P)))/P.shape[0]\n",
    "\n",
    "def dataGenY(n,N,p,P):\n",
    "    # P should be of shape (N,d)\n",
    "    while True:\n",
    "        Y = np.random.rand(n,N)>p\n",
    "        C = LossY(Y,P)\n",
    "        yield (C,Y)\n",
    "\n",
    "logLoss = lambda y,p: np.mean(y*np.log(p) + (1-y)*np.log(1-p))\n",
    "\n",
    "def sigmoid(x):\n",
    "    return 1/(1+np.exp(-x))\n",
    "    \n",
    "class GBM_k_BinaryOutput(BaseEstimator, ClassifierMixin):\n",
    "    \n",
    "    def __init__(self,BaseEst,M_est,learnRate,BasePara,K,baseline):\n",
    "        self.BaseEst=BaseEst\n",
    "        self.M_est=M_est\n",
    "        self.learnRate=learnRate\n",
    "        self.estimator_=[]\n",
    "        self.BasePara=BasePara\n",
    "        self.K = K\n",
    "        self.baseline = baseline\n",
    "        \n",
    "    def fit(self,dataGen,restart=True,M_add=None):\n",
    "          \n",
    "        if M_add==None:\n",
    "            M_add=self.M_est\n",
    "            \n",
    "        if restart==True:\n",
    "            self.estimator_=[]\n",
    "\n",
    "        for m in range(M_add):\n",
    "            X,Y = dataGen.next()\n",
    "            yp = self.predict_proba(X)\n",
    "            print \"iteration:{}, logLoss:{}\".format(m,logLoss(Y,yp))\n",
    "            self.estimator_.append(self.BaseEst(**self.BasePara).fit(X,Y-yp))\n",
    "\n",
    "        self.M_est=len(self.estimator_)\n",
    "        return self\n",
    "        \n",
    "        \n",
    "    def predict_raw(self,X):\n",
    "        yhat=np.copy(self.baseline)\n",
    "        for m in self.estimator_:\n",
    "            yhat=yhat+m.predict(X)\n",
    "        return yhat       \n",
    "        \n",
    "    def predict_class(self,X):\n",
    "        return self.predict_raw(X)>0\n",
    "\n",
    "    def predict_proba(self,X):\n",
    "        return sigmoid(self.learnRate*self.predict_raw(X))\n",
    "         \n",
    "    def plot_MLE(self,X,y):\n",
    "        accr=np.zeros(self.M_est)        \n",
    "        y_raw=np.copy(self.baseline)\n",
    "            \n",
    "        for m in range(self.M_est):\n",
    "            y_raw=y_raw + self.learnRate*self.estimator_[m].predict(X)\n",
    "            yp=sigmoid(y_raw)\n",
    "            accr[m]=logLoss(y,yp)\n",
    "        plt.plot(accr)\n",
    "\n"
   ]
  },
  {
   "cell_type": "code",
   "execution_count": 30,
   "metadata": {
    "collapsed": true
   },
   "outputs": [],
   "source": [
    "P_beta = np.maximum(np.minimum(beta.rvs(0.5,0.5,size=(N,N/2)),1-1e-4),1e-4)"
   ]
  },
  {
   "cell_type": "code",
   "execution_count": 32,
   "metadata": {
    "collapsed": true
   },
   "outputs": [
    {
     "name": "stdout",
     "output_type": "stream",
     "text": [
      "iteration:0, logLoss:-0.69314718056\n",
      "iteration:1, logLoss:-0.693147798283\n",
      "iteration:2, logLoss:-0.693148975434\n"
     ]
    },
    {
     "ename": "KeyboardInterrupt",
     "evalue": "",
     "output_type": "error",
     "traceback": [
      "\u001b[0;31m---------------------------------------------------------------------------\u001b[0m",
      "\u001b[0;31mKeyboardInterrupt\u001b[0m                         Traceback (most recent call last)",
      "\u001b[0;32m<ipython-input-32-202aef40c0f7>\u001b[0m in \u001b[0;36m<module>\u001b[0;34m()\u001b[0m\n\u001b[1;32m      1\u001b[0m \u001b[0mModel\u001b[0m\u001b[0;34m=\u001b[0m\u001b[0mGBM_k_BinaryOutput\u001b[0m\u001b[0;34m(\u001b[0m\u001b[0mExtraTreeRegressor\u001b[0m\u001b[0;34m,\u001b[0m\u001b[0;36m20\u001b[0m\u001b[0;34m,\u001b[0m\u001b[0;36m0.01\u001b[0m\u001b[0;34m,\u001b[0m                         \u001b[0;34m{\u001b[0m\u001b[0;34m'max_depth'\u001b[0m\u001b[0;34m:\u001b[0m\u001b[0;36m8\u001b[0m\u001b[0;34m,\u001b[0m\u001b[0;34m'splitter'\u001b[0m\u001b[0;34m:\u001b[0m\u001b[0;34m'random'\u001b[0m\u001b[0;34m,\u001b[0m\u001b[0;34m'max_features'\u001b[0m\u001b[0;34m:\u001b[0m\u001b[0;36m0.5\u001b[0m\u001b[0;34m}\u001b[0m\u001b[0;34m,\u001b[0m                        \u001b[0mN\u001b[0m\u001b[0;34m,\u001b[0m\u001b[0mnp\u001b[0m\u001b[0;34m.\u001b[0m\u001b[0mzeros\u001b[0m\u001b[0;34m(\u001b[0m\u001b[0mN\u001b[0m\u001b[0;34m)\u001b[0m\u001b[0;34m)\u001b[0m\u001b[0;34m\u001b[0m\u001b[0m\n\u001b[1;32m      2\u001b[0m \u001b[0;34m\u001b[0m\u001b[0m\n\u001b[0;32m----> 3\u001b[0;31m \u001b[0mModel\u001b[0m\u001b[0;34m.\u001b[0m\u001b[0mfit\u001b[0m\u001b[0;34m(\u001b[0m\u001b[0mdataGenMask\u001b[0m\u001b[0;34m(\u001b[0m\u001b[0;36m1000\u001b[0m\u001b[0;34m,\u001b[0m\u001b[0mN\u001b[0m\u001b[0;34m,\u001b[0m\u001b[0;36m0.5\u001b[0m\u001b[0;34m,\u001b[0m\u001b[0;36m0.5\u001b[0m\u001b[0;34m,\u001b[0m\u001b[0mP_beta\u001b[0m\u001b[0;34m)\u001b[0m\u001b[0;34m)\u001b[0m\u001b[0;34m\u001b[0m\u001b[0m\n\u001b[0m",
      "\u001b[0;32m<ipython-input-20-acd176cef252>\u001b[0m in \u001b[0;36mfit\u001b[0;34m(self, dataGen, restart, M_add)\u001b[0m\n\u001b[1;32m     52\u001b[0m             \u001b[0myp\u001b[0m \u001b[0;34m=\u001b[0m \u001b[0mself\u001b[0m\u001b[0;34m.\u001b[0m\u001b[0mpredict_proba\u001b[0m\u001b[0;34m(\u001b[0m\u001b[0mX\u001b[0m\u001b[0;34m)\u001b[0m\u001b[0;34m\u001b[0m\u001b[0m\n\u001b[1;32m     53\u001b[0m             \u001b[0;32mprint\u001b[0m \u001b[0;34m\"iteration:{}, logLoss:{}\"\u001b[0m\u001b[0;34m.\u001b[0m\u001b[0mformat\u001b[0m\u001b[0;34m(\u001b[0m\u001b[0mm\u001b[0m\u001b[0;34m,\u001b[0m\u001b[0mlogLoss\u001b[0m\u001b[0;34m(\u001b[0m\u001b[0mY\u001b[0m\u001b[0;34m,\u001b[0m\u001b[0myp\u001b[0m\u001b[0;34m)\u001b[0m\u001b[0;34m)\u001b[0m\u001b[0;34m\u001b[0m\u001b[0m\n\u001b[0;32m---> 54\u001b[0;31m             \u001b[0mself\u001b[0m\u001b[0;34m.\u001b[0m\u001b[0mestimator_\u001b[0m\u001b[0;34m.\u001b[0m\u001b[0mappend\u001b[0m\u001b[0;34m(\u001b[0m\u001b[0mself\u001b[0m\u001b[0;34m.\u001b[0m\u001b[0mBaseEst\u001b[0m\u001b[0;34m(\u001b[0m\u001b[0;34m**\u001b[0m\u001b[0mself\u001b[0m\u001b[0;34m.\u001b[0m\u001b[0mBasePara\u001b[0m\u001b[0;34m)\u001b[0m\u001b[0;34m.\u001b[0m\u001b[0mfit\u001b[0m\u001b[0;34m(\u001b[0m\u001b[0mX\u001b[0m\u001b[0;34m,\u001b[0m\u001b[0mY\u001b[0m\u001b[0;34m-\u001b[0m\u001b[0myp\u001b[0m\u001b[0;34m)\u001b[0m\u001b[0;34m)\u001b[0m\u001b[0;34m\u001b[0m\u001b[0m\n\u001b[0m\u001b[1;32m     55\u001b[0m \u001b[0;34m\u001b[0m\u001b[0m\n\u001b[1;32m     56\u001b[0m         \u001b[0mself\u001b[0m\u001b[0;34m.\u001b[0m\u001b[0mM_est\u001b[0m\u001b[0;34m=\u001b[0m\u001b[0mlen\u001b[0m\u001b[0;34m(\u001b[0m\u001b[0mself\u001b[0m\u001b[0;34m.\u001b[0m\u001b[0mestimator_\u001b[0m\u001b[0;34m)\u001b[0m\u001b[0;34m\u001b[0m\u001b[0m\n",
      "\u001b[0;32m/home/will/anaconda2/lib/python2.7/site-packages/sklearn/tree/tree.pyc\u001b[0m in \u001b[0;36mfit\u001b[0;34m(self, X, y, sample_weight, check_input, X_idx_sorted)\u001b[0m\n\u001b[1;32m   1027\u001b[0m             \u001b[0msample_weight\u001b[0m\u001b[0;34m=\u001b[0m\u001b[0msample_weight\u001b[0m\u001b[0;34m,\u001b[0m\u001b[0;34m\u001b[0m\u001b[0m\n\u001b[1;32m   1028\u001b[0m             \u001b[0mcheck_input\u001b[0m\u001b[0;34m=\u001b[0m\u001b[0mcheck_input\u001b[0m\u001b[0;34m,\u001b[0m\u001b[0;34m\u001b[0m\u001b[0m\n\u001b[0;32m-> 1029\u001b[0;31m             X_idx_sorted=X_idx_sorted)\n\u001b[0m\u001b[1;32m   1030\u001b[0m         \u001b[0;32mreturn\u001b[0m \u001b[0mself\u001b[0m\u001b[0;34m\u001b[0m\u001b[0m\n\u001b[1;32m   1031\u001b[0m \u001b[0;34m\u001b[0m\u001b[0m\n",
      "\u001b[0;32m/home/will/anaconda2/lib/python2.7/site-packages/sklearn/tree/tree.pyc\u001b[0m in \u001b[0;36mfit\u001b[0;34m(self, X, y, sample_weight, check_input, X_idx_sorted)\u001b[0m\n\u001b[1;32m    348\u001b[0m                                            self.min_impurity_split)\n\u001b[1;32m    349\u001b[0m \u001b[0;34m\u001b[0m\u001b[0m\n\u001b[0;32m--> 350\u001b[0;31m         \u001b[0mbuilder\u001b[0m\u001b[0;34m.\u001b[0m\u001b[0mbuild\u001b[0m\u001b[0;34m(\u001b[0m\u001b[0mself\u001b[0m\u001b[0;34m.\u001b[0m\u001b[0mtree_\u001b[0m\u001b[0;34m,\u001b[0m \u001b[0mX\u001b[0m\u001b[0;34m,\u001b[0m \u001b[0my\u001b[0m\u001b[0;34m,\u001b[0m \u001b[0msample_weight\u001b[0m\u001b[0;34m,\u001b[0m \u001b[0mX_idx_sorted\u001b[0m\u001b[0;34m)\u001b[0m\u001b[0;34m\u001b[0m\u001b[0m\n\u001b[0m\u001b[1;32m    351\u001b[0m \u001b[0;34m\u001b[0m\u001b[0m\n\u001b[1;32m    352\u001b[0m         \u001b[0;32mif\u001b[0m \u001b[0mself\u001b[0m\u001b[0;34m.\u001b[0m\u001b[0mn_outputs_\u001b[0m \u001b[0;34m==\u001b[0m \u001b[0;36m1\u001b[0m\u001b[0;34m:\u001b[0m\u001b[0;34m\u001b[0m\u001b[0m\n",
      "\u001b[0;31mKeyboardInterrupt\u001b[0m: "
     ]
    }
   ],
   "source": [
    "Model=GBM_k_BinaryOutput(ExtraTreeRegressor,20,0.01,\\\n",
    "                         {'max_depth':8,'splitter':'random','max_features':0.5},\\\n",
    "                        N,np.zeros(N))\n",
    "\n",
    "Model.fit(dataGenMask(1000,N,0.5,0.5,P_beta))"
   ]
  },
  {
   "cell_type": "code",
   "execution_count": 17,
   "metadata": {
    "collapsed": true
   },
   "outputs": [],
   "source": [
    "X,Mask = dataGenMask(1000,N,0.5,0.5,P_beta).next()"
   ]
  },
  {
   "cell_type": "code",
   "execution_count": 18,
   "metadata": {
    "collapsed": true
   },
   "outputs": [],
   "source": [
    "yp=Model.predict_proba(X)"
   ]
  },
  {
   "cell_type": "code",
   "execution_count": 19,
   "metadata": {},
   "outputs": [
    {
     "data": {
      "text/plain": [
       "-0.69942542693242538"
      ]
     },
     "execution_count": 19,
     "metadata": {},
     "output_type": "execute_result"
    }
   ],
   "source": [
    "logLoss(Mask,yp)"
   ]
  },
  {
   "cell_type": "code",
   "execution_count": null,
   "metadata": {
    "collapsed": true
   },
   "outputs": [],
   "source": []
  },
  {
   "cell_type": "code",
   "execution_count": 66,
   "metadata": {
    "collapsed": true
   },
   "outputs": [],
   "source": [
    "def LossMask(Y,P,mask):\n",
    "    # Y should have shape (n,N), P (N,d) and mask (n,N)\n",
    "    return (np.dot(Y*mask,np.log(P)) + np.dot((1-Y)*mask,np.log(1-P)))/np.sum(mask,1,keepdims=True)\n",
    "\n",
    "def dataGenMaskY(n,N,p1,p2,P):\n",
    "    # P should be of shape (N,d) and serves as hyper-para\n",
    "    # p1 is the prob for Y, p2 for mask\n",
    "    while True:\n",
    "        Y = np.random.rand(n,N)>p1\n",
    "        mask = np.random.rand(n,N)>p2\n",
    "        C = LossMask(Y,P,mask)\n",
    "        ret = np.zeros((n,N,2),dtype=np.int32) # 3 classes, K-1 =2\n",
    "        ret[:,:,0] = 1-Y\n",
    "        ret[:,:,1] = Y\n",
    "        ret = ret * mask[:,:,np.newaxis]\n",
    "        yield (C,np.reshape(ret,(n,N*2)))\n"
   ]
  },
  {
   "cell_type": "code",
   "execution_count": 67,
   "metadata": {
    "collapsed": true
   },
   "outputs": [],
   "source": [
    "def sigmoid(x):\n",
    "    return 1/(1+np.exp(-x))\n",
    "\n",
    "def logLoss(y,yp):\n",
    "    return np.mean(y*np.log(yp))\n",
    "    \n",
    "class GBM_KD(BaseEstimator, ClassifierMixin):\n",
    "    # predict D output, each having K classes. So the total number of output\n",
    "    # will be K*D. training data is provided in the form of a generator.\n",
    "    \n",
    "    def __init__(self,BaseEst,M_est,learnRate,BasePara,K,D,baseline):\n",
    "        self.BaseEst=BaseEst\n",
    "        self.M_est=M_est\n",
    "        self.learnRate=learnRate\n",
    "        self.estimator_=[]\n",
    "        self.BasePara=BasePara\n",
    "        self.K = K\n",
    "        self.D = D\n",
    "        self.baseline = baseline # should be of the shape (K*D,)\n",
    "        \n",
    "    def fit(self,dataGen,restart=True,M_add=None):\n",
    "          \n",
    "        if M_add==None:\n",
    "            M_add=self.M_est\n",
    "            \n",
    "        if restart==True:\n",
    "            self.estimator_=[]\n",
    "\n",
    "        for m in range(M_add):\n",
    "            X,Y = dataGen.next()\n",
    "            yp = self.predict_proba(X)\n",
    "            print \"iteration:{}, logLoss:{}\".format(m,logLoss(Y,yp)) # partial loss. Does not have class mask.\n",
    "            self.estimator_.append(self.BaseEst(**self.BasePara).fit(X,Y-yp))\n",
    "\n",
    "            \n",
    "        self.M_est=len(self.estimator_)\n",
    "        return self\n",
    "        \n",
    "        \n",
    "    def predict_raw(self,X):\n",
    "        yhat=np.copy(self.baseline)\n",
    "        for m in self.estimator_:\n",
    "            yhat=yhat+m.predict(X)\n",
    "        return yhat       \n",
    "        \n",
    "    def predict_class(self,X):\n",
    "        return self.predict_raw(X)>0\n",
    "\n",
    "    def predict_proba(self,X):\n",
    "        temp = np.exp(np.reshape(self.learnRate*self.predict_raw(X),(-1,self.D,self.K-1)))\n",
    "        return np.reshape(temp/(np.sum(temp,2,keepdims=True)+1),(-1,self.D*(self.K-1)))\n",
    "         \n",
    "    def plot_MLE(self,X,y):\n",
    "        accr=np.zeros(self.M_est)        \n",
    "        y_raw=np.copy(self.baseline)\n",
    "            \n",
    "        for m in range(self.M_est):\n",
    "            y_raw=y_raw + self.learnRate*self.estimator_[m].predict(X)\n",
    "            yp=sigmoid(y_raw)\n",
    "            accr[m]=logLoss(y,yp)\n",
    "        plt.plot(accr)"
   ]
  },
  {
   "cell_type": "code",
   "execution_count": 78,
   "metadata": {
    "collapsed": true
   },
   "outputs": [],
   "source": [
    "p_ = np.array([0.25,0.25,0.5])"
   ]
  },
  {
   "cell_type": "code",
   "execution_count": 79,
   "metadata": {
    "collapsed": true
   },
   "outputs": [],
   "source": [
    "r = 0.0001"
   ]
  },
  {
   "cell_type": "code",
   "execution_count": 80,
   "metadata": {},
   "outputs": [],
   "source": [
    "baseline = np.repeat(np.log(p_[:2]/p_[2]) / r, N)"
   ]
  },
  {
   "cell_type": "code",
   "execution_count": 81,
   "metadata": {},
   "outputs": [
    {
     "data": {
      "text/plain": [
       "(18000,)"
      ]
     },
     "execution_count": 81,
     "metadata": {},
     "output_type": "execute_result"
    }
   ],
   "source": [
    "baseline.shape"
   ]
  },
  {
   "cell_type": "code",
   "execution_count": 82,
   "metadata": {},
   "outputs": [
    {
     "name": "stdout",
     "output_type": "stream",
     "text": [
      "iteration:0, logLoss:-0.346660130989\n",
      "iteration:1, logLoss:-0.346716730723\n",
      "iteration:2, logLoss:-0.346517455725\n",
      "iteration:3, logLoss:-0.346485126588\n",
      "iteration:4, logLoss:-0.346507143699\n",
      "iteration:5, logLoss:-0.346540092924\n",
      "iteration:6, logLoss:-0.346751196354\n",
      "iteration:7, logLoss:-0.34656682399\n",
      "iteration:8, logLoss:-0.346566713172\n",
      "iteration:9, logLoss:-0.346520006511\n",
      "iteration:10, logLoss:-0.346620794973\n",
      "iteration:11, logLoss:-0.346488909551\n",
      "iteration:12, logLoss:-0.346607077776\n",
      "iteration:13, logLoss:-0.346606580468\n",
      "iteration:14, logLoss:-0.346564939045\n",
      "iteration:15, logLoss:-0.346630512707\n",
      "iteration:16, logLoss:-0.346555658508\n",
      "iteration:17, logLoss:-0.346533048901\n",
      "iteration:18, logLoss:-0.346728015463\n",
      "iteration:19, logLoss:-0.346518081116\n"
     ]
    },
    {
     "data": {
      "text/plain": [
       "GBM_KD(BaseEst=<class 'sklearn.tree.tree.ExtraTreeRegressor'>,\n",
       "    BasePara={'max_features': 0.8, 'splitter': 'random', 'max_depth': 12},\n",
       "    D=9000, K=3, M_est=20,\n",
       "    baseline=array([-6931.47181, -6931.47181, ..., -6931.47181, -6931.47181]),\n",
       "    learnRate=0.0001)"
      ]
     },
     "execution_count": 82,
     "metadata": {},
     "output_type": "execute_result"
    }
   ],
   "source": [
    "Model=GBM_KD(ExtraTreeRegressor,20,0.0001,\\\n",
    "                         {'max_depth':12,'splitter':'random','max_features':0.8},\\\n",
    "                        3,N,baseline)\n",
    "Model.fit(dataGenMaskY(3000,N,0.5,0.5,P_beta))"
   ]
  },
  {
   "cell_type": "code",
   "execution_count": null,
   "metadata": {
    "collapsed": true
   },
   "outputs": [],
   "source": []
  },
  {
   "cell_type": "code",
   "execution_count": null,
   "metadata": {
    "collapsed": true
   },
   "outputs": [],
   "source": []
  },
  {
   "cell_type": "code",
   "execution_count": null,
   "metadata": {
    "collapsed": true
   },
   "outputs": [],
   "source": []
  },
  {
   "cell_type": "code",
   "execution_count": null,
   "metadata": {
    "collapsed": true
   },
   "outputs": [],
   "source": []
  },
  {
   "cell_type": "code",
   "execution_count": null,
   "metadata": {
    "collapsed": true
   },
   "outputs": [],
   "source": []
  },
  {
   "cell_type": "code",
   "execution_count": null,
   "metadata": {
    "collapsed": true
   },
   "outputs": [],
   "source": []
  }
 ],
 "metadata": {
  "anaconda-cloud": {},
  "kernelspec": {
   "display_name": "Python 2",
   "language": "python",
   "name": "python2"
  },
  "language_info": {
   "codemirror_mode": {
    "name": "ipython",
    "version": 2
   },
   "file_extension": ".py",
   "mimetype": "text/x-python",
   "name": "python",
   "nbconvert_exporter": "python",
   "pygments_lexer": "ipython2",
   "version": "2.7.13"
  }
 },
 "nbformat": 4,
 "nbformat_minor": 1
}
